{
  "nbformat": 4,
  "nbformat_minor": 0,
  "metadata": {
    "colab": {
      "name": "My first colab book.ipynb",
      "provenance": [],
      "collapsed_sections": [],
      "authorship_tag": "ABX9TyNjF+BZI/yRIlj0jAvHBRk2",
      "include_colab_link": true
    },
    "kernelspec": {
      "name": "python3",
      "display_name": "Python 3"
    },
    "language_info": {
      "name": "python"
    }
  },
  "cells": [
    {
      "cell_type": "markdown",
      "metadata": {
        "id": "view-in-github",
        "colab_type": "text"
      },
      "source": [
        "<a href=\"https://colab.research.google.com/github/Sailaja-1130/Sailaja-1130/blob/main/My_first_colab_book.ipynb\" target=\"_parent\"><img src=\"https://colab.research.google.com/assets/colab-badge.svg\" alt=\"Open In Colab\"/></a>"
      ]
    },
    {
      "cell_type": "code",
      "metadata": {
        "colab": {
          "base_uri": "https://localhost:8080/"
        },
        "id": "Wkxfqkb7GepF",
        "outputId": "7806598c-8a4a-405e-b291-23ef2fc28ccc"
      },
      "source": [
        " \n",
        "x = input(\"enter a number: \")\n",
        "y = input(\"enter another  number: \")\n",
        " \n",
        "sum = int(x) + int(y)\n",
        " \n",
        "print(\"The sum is: \", sum)"
      ],
      "execution_count": null,
      "outputs": [
        {
          "output_type": "stream",
          "text": [
            "enter a number: 20\n",
            "enter another  number: 35\n",
            "The sum is:  55\n"
          ],
          "name": "stdout"
        }
      ]
    },
    {
      "cell_type": "code",
      "metadata": {
        "colab": {
          "base_uri": "https://localhost:8080/"
        },
        "id": "0o67TBEsICKN",
        "outputId": "27e6cbe2-9600-4e0f-c53d-9cd22c46933c"
      },
      "source": [
        " num1 = 10\n",
        "num2 = 7 \n",
        "num = num1 - num2 \n",
        "print(num)"
      ],
      "execution_count": 9,
      "outputs": [
        {
          "output_type": "stream",
          "text": [
            "3\n"
          ],
          "name": "stdout"
        }
      ]
    },
    {
      "cell_type": "code",
      "metadata": {
        "colab": {
          "base_uri": "https://localhost:8080/"
        },
        "id": "34agNzkJIzDb",
        "outputId": "0ffd88f3-fc46-432a-adc7-ba6544a98b0e"
      },
      "source": [
        " num1=int(input(\"Enter the first num: \")) \n",
        " num2=int(input(\"Enter the second num: \")) \n",
        " mul=num1*num2;    \n",
        " print(\"the product of number is: \",mul)"
      ],
      "execution_count": null,
      "outputs": [
        {
          "output_type": "stream",
          "text": [
            "Enter the first num: 20\n",
            "Enter the second num: 8\n",
            "the product of number is:  160\n"
          ],
          "name": "stdout"
        }
      ]
    },
    {
      "cell_type": "code",
      "metadata": {
        "id": "mj2ICWCNKicb"
      },
      "source": [
        ""
      ],
      "execution_count": null,
      "outputs": []
    },
    {
      "cell_type": "markdown",
      "metadata": {
        "id": "coGdsuJFKjDH"
      },
      "source": [
        ""
      ]
    },
    {
      "cell_type": "markdown",
      "metadata": {
        "id": "oQdJznoUKjoG"
      },
      "source": [
        ""
      ]
    },
    {
      "cell_type": "code",
      "metadata": {
        "id": "D72T-c0BKkEb"
      },
      "source": [
        ""
      ],
      "execution_count": null,
      "outputs": []
    },
    {
      "cell_type": "code",
      "metadata": {
        "id": "OQbc4UQWKkY2"
      },
      "source": [
        ""
      ],
      "execution_count": null,
      "outputs": []
    }
  ]
}